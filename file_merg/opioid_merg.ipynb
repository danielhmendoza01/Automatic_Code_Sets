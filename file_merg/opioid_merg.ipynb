{
 "cells": [
  {
   "cell_type": "code",
   "execution_count": 1,
   "metadata": {},
   "outputs": [],
   "source": [
    "import pandas as pd\n",
    "import os\n"
   ]
  },
  {
   "cell_type": "code",
   "execution_count": 2,
   "metadata": {},
   "outputs": [
    {
     "data": {
      "text/plain": [
       "'/Users/hm/Documents/opioid_list/opioid_list/file_merg'"
      ]
     },
     "execution_count": 2,
     "metadata": {},
     "output_type": "execute_result"
    }
   ],
   "source": [
    "#working directory\n",
    "os.getcwd()"
   ]
  },
  {
   "cell_type": "code",
   "execution_count": 4,
   "metadata": {},
   "outputs": [],
   "source": [
    "files = os.listdir()"
   ]
  },
  {
   "cell_type": "code",
   "execution_count": 8,
   "metadata": {},
   "outputs": [
    {
     "name": "stdout",
     "output_type": "stream",
     "text": [
      "['OpioidsAll.xlsx', 'Opioids-3.xlsx', 'ScheduleIIIIIOpioidMedications.xlsx', 'MedicationsContainingOpioids.xlsx', '.DS_Store', 'OpioidInjectables.xlsx', 'Opioids-2.xlsx', 'LongActingOpioids.xlsx', 'opioid_merg.ipynb', 'AllOpioids.xlsx', 'OpioidsUsedForPainControl.xlsx', 'OpioidsOral.xlsx', 'Opioids.xlsx', 'Opioids-4.xlsx', 'OpioidMeds.xlsx', 'OpioidsPrescribedNotInjectable.xlsx', 'OpioidPainMedications.xlsx', 'SelectedOpioidsForModerateToSeverePain.xlsx', 'OpioidMedicationKeyWords.xlsx', 'OpioidExtendedReleaseOralAndTransdermalPatch.xlsx', 'AllPrescribableOpioidsUsedForPainControlIncludingInactiveMedications.xlsx', 'OpioidOralTabletsAndPatchesOnly.xlsx', 'C2Share Opioid Medications.xlsx', 'OpioidOralNotExtendedRelease.xlsx', 'ScheduleIIAndScheduleIIIOpioids.xlsx']\n"
     ]
    }
   ],
   "source": [
    "print(files)"
   ]
  },
  {
   "cell_type": "code",
   "execution_count": 9,
   "metadata": {},
   "outputs": [],
   "source": [
    "#get out file\n",
    "df = pd.DataFrame()"
   ]
  },
  {
   "cell_type": "code",
   "execution_count": 19,
   "metadata": {},
   "outputs": [],
   "source": [
    "for f in files:\n",
    "    if (f.endswith('.xlsx')):\n",
    "        start = 11\n",
    "        merg_df = pd.read_excel(f, \"Expansion List\")\n",
    "        merg_df = merg_df.iloc[start:,:]\n",
    "        merg_df.reset_index(inplace=True, drop=True)\n",
    "        merg_df.columns=merg_df.iloc[0]\n",
    "        merg_df = merg_df[1:]\n",
    "        df = pd.concat([df, merg_df]).drop_duplicates(subset=['Code']).reset_index(drop=True)\n",
    "        "
   ]
  },
  {
   "cell_type": "code",
   "execution_count": 21,
   "metadata": {},
   "outputs": [
    {
     "data": {
      "text/plain": [
       "(2259, 12)"
      ]
     },
     "execution_count": 21,
     "metadata": {},
     "output_type": "execute_result"
    }
   ],
   "source": [
    "df.shape"
   ]
  },
  {
   "cell_type": "code",
   "execution_count": 22,
   "metadata": {},
   "outputs": [],
   "source": [
    "df.to_excel(\"/Users/hm/Documents/opioid_list/opioid_list/Complete_Opioids_List.xlsx\", index=False)"
   ]
  }
 ],
 "metadata": {
  "interpreter": {
   "hash": "bb65d556cc9ffd5fc8f64636b885d16e366ae84c2bf1ff8befa7ac4da02efdcf"
  },
  "kernelspec": {
   "display_name": "Python 3.9.7 ('base')",
   "language": "python",
   "name": "python3"
  },
  "language_info": {
   "codemirror_mode": {
    "name": "ipython",
    "version": 3
   },
   "file_extension": ".py",
   "mimetype": "text/x-python",
   "name": "python",
   "nbconvert_exporter": "python",
   "pygments_lexer": "ipython3",
   "version": "3.9.7"
  },
  "orig_nbformat": 4
 },
 "nbformat": 4,
 "nbformat_minor": 2
}
