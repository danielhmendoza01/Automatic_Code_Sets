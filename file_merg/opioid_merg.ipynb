{
 "cells": [
  {
   "cell_type": "code",
   "execution_count": 3,
   "metadata": {},
   "outputs": [],
   "source": [
    "import pandas as pd\n",
    "import os\n"
   ]
  },
  {
   "cell_type": "code",
   "execution_count": 2,
   "metadata": {},
   "outputs": [
    {
     "data": {
      "text/plain": [
       "'/Users/hm/Documents/opioid_list/opioid_list/file_merg'"
      ]
     },
     "execution_count": 2,
     "metadata": {},
     "output_type": "execute_result"
    }
   ],
   "source": [
    "#working directory\n",
    "os.getcwd()"
   ]
  },
  {
   "cell_type": "code",
   "execution_count": 4,
   "metadata": {},
   "outputs": [],
   "source": [
    "files = os.listdir()"
   ]
  },
  {
   "cell_type": "code",
   "execution_count": 8,
   "metadata": {},
   "outputs": [
    {
     "name": "stdout",
     "output_type": "stream",
     "text": [
      "['OpioidsAll.xlsx', 'Opioids-3.xlsx', 'ScheduleIIIIIOpioidMedications.xlsx', 'MedicationsContainingOpioids.xlsx', '.DS_Store', 'OpioidInjectables.xlsx', 'Opioids-2.xlsx', 'LongActingOpioids.xlsx', 'opioid_merg.ipynb', 'AllOpioids.xlsx', 'OpioidsUsedForPainControl.xlsx', 'OpioidsOral.xlsx', 'Opioids.xlsx', 'Opioids-4.xlsx', 'OpioidMeds.xlsx', 'OpioidsPrescribedNotInjectable.xlsx', 'OpioidPainMedications.xlsx', 'SelectedOpioidsForModerateToSeverePain.xlsx', 'OpioidMedicationKeyWords.xlsx', 'OpioidExtendedReleaseOralAndTransdermalPatch.xlsx', 'AllPrescribableOpioidsUsedForPainControlIncludingInactiveMedications.xlsx', 'OpioidOralTabletsAndPatchesOnly.xlsx', 'C2Share Opioid Medications.xlsx', 'OpioidOralNotExtendedRelease.xlsx', 'ScheduleIIAndScheduleIIIOpioids.xlsx']\n"
     ]
    }
   ],
   "source": [
    "print(files)"
   ]
  },
  {
   "cell_type": "code",
   "execution_count": 9,
   "metadata": {},
   "outputs": [],
   "source": [
    "#get out file\n",
    "df = pd.DataFrame()"
   ]
  },
  {
   "cell_type": "code",
   "execution_count": 19,
   "metadata": {},
   "outputs": [],
   "source": [
    "for f in files:\n",
    "    if (f.endswith('.xlsx')):\n",
    "        start = 11\n",
    "        merg_df = pd.read_excel(f, \"Expansion List\")\n",
    "        merg_df = merg_df.iloc[start:,:]\n",
    "        merg_df.reset_index(inplace=True, drop=True)\n",
    "        merg_df.columns=merg_df.iloc[0]\n",
    "        merg_df = merg_df[1:]\n",
    "        df = pd.concat([df, merg_df]).drop_duplicates(subset=['Code']).reset_index(drop=True)\n",
    "        "
   ]
  },
  {
   "cell_type": "code",
   "execution_count": 21,
   "metadata": {},
   "outputs": [
    {
     "data": {
      "text/plain": [
       "(2259, 12)"
      ]
     },
     "execution_count": 21,
     "metadata": {},
     "output_type": "execute_result"
    }
   ],
   "source": [
    "df.shape"
   ]
  },
  {
   "cell_type": "code",
   "execution_count": 22,
   "metadata": {},
   "outputs": [],
   "source": [
    "df.to_excel(\"/Users/hm/Documents/opioid_list/opioid_list/Complete_Opioids_List.xlsx\", index=False)"
   ]
  },
  {
   "cell_type": "code",
   "execution_count": 12,
   "metadata": {},
   "outputs": [
    {
     "name": "stdout",
     "output_type": "stream",
     "text": [
      "['NonOpioidPainMedications.xlsx', 'NonOpioidAnalgesics.xlsx', 'NonOpioidAndNonAnalgesicPainMedications-2.xlsx', 'NonOpioidAndNonAnalgesicPainMedications.xlsx']\n"
     ]
    }
   ],
   "source": [
    "os.chdir(\"/Users/hm/Documents/opioid_list/opioid_list/file_merg/non opioids\")\n",
    "nonopioid_files = os.listdir()\n",
    "print(nonopioid_files)"
   ]
  },
  {
   "cell_type": "code",
   "execution_count": 13,
   "metadata": {},
   "outputs": [
    {
     "name": "stderr",
     "output_type": "stream",
     "text": [
      "/Users/hm/opt/anaconda3/lib/python3.9/site-packages/openpyxl/styles/stylesheet.py:226: UserWarning: Workbook contains no default style, apply openpyxl's default\n",
      "  warn(\"Workbook contains no default style, apply openpyxl's default\")\n"
     ]
    }
   ],
   "source": [
    "df_non = pd.DataFrame()\n",
    "for f in nonopioid_files:\n",
    "    if (f.endswith('.xlsx')):\n",
    "        start = 11\n",
    "        merg_df = pd.read_excel(f, \"Expansion List\")\n",
    "        merg_df = merg_df.iloc[start:,:]\n",
    "        merg_df.reset_index(inplace=True, drop=True)\n",
    "        merg_df.columns=merg_df.iloc[0]\n",
    "        merg_df = merg_df[1:]\n",
    "        df_non = pd.concat([df_non, merg_df]).drop_duplicates(subset=['Code']).reset_index(drop=True)"
   ]
  },
  {
   "cell_type": "code",
   "execution_count": 14,
   "metadata": {},
   "outputs": [
    {
     "data": {
      "text/html": [
       "<div>\n",
       "<style scoped>\n",
       "    .dataframe tbody tr th:only-of-type {\n",
       "        vertical-align: middle;\n",
       "    }\n",
       "\n",
       "    .dataframe tbody tr th {\n",
       "        vertical-align: top;\n",
       "    }\n",
       "\n",
       "    .dataframe thead th {\n",
       "        text-align: right;\n",
       "    }\n",
       "</style>\n",
       "<table border=\"1\" class=\"dataframe\">\n",
       "  <thead>\n",
       "    <tr style=\"text-align: right;\">\n",
       "      <th></th>\n",
       "      <th>Code</th>\n",
       "      <th>Description</th>\n",
       "      <th>Code System</th>\n",
       "      <th>Code System Version</th>\n",
       "      <th>Code System OID</th>\n",
       "      <th>TTY</th>\n",
       "    </tr>\n",
       "  </thead>\n",
       "  <tbody>\n",
       "    <tr>\n",
       "      <th>0</th>\n",
       "      <td>1000048</td>\n",
       "      <td>doxepin hydrochloride 10 MG Oral Capsule</td>\n",
       "      <td>RXNORM</td>\n",
       "      <td>2021-01</td>\n",
       "      <td>2.16.840.1.113883.6.88</td>\n",
       "      <td>SCD</td>\n",
       "    </tr>\n",
       "    <tr>\n",
       "      <th>1</th>\n",
       "      <td>1000054</td>\n",
       "      <td>doxepin hydrochloride 10 MG/ML Oral Solution</td>\n",
       "      <td>RXNORM</td>\n",
       "      <td>2021-01</td>\n",
       "      <td>2.16.840.1.113883.6.88</td>\n",
       "      <td>SCD</td>\n",
       "    </tr>\n",
       "    <tr>\n",
       "      <th>2</th>\n",
       "      <td>1000058</td>\n",
       "      <td>doxepin hydrochloride 100 MG Oral Capsule</td>\n",
       "      <td>RXNORM</td>\n",
       "      <td>2021-01</td>\n",
       "      <td>2.16.840.1.113883.6.88</td>\n",
       "      <td>SCD</td>\n",
       "    </tr>\n",
       "    <tr>\n",
       "      <th>3</th>\n",
       "      <td>1000064</td>\n",
       "      <td>doxepin hydrochloride 150 MG Oral Capsule</td>\n",
       "      <td>RXNORM</td>\n",
       "      <td>2021-01</td>\n",
       "      <td>2.16.840.1.113883.6.88</td>\n",
       "      <td>SCD</td>\n",
       "    </tr>\n",
       "    <tr>\n",
       "      <th>4</th>\n",
       "      <td>1000070</td>\n",
       "      <td>doxepin hydrochloride 25 MG Oral Capsule</td>\n",
       "      <td>RXNORM</td>\n",
       "      <td>2021-01</td>\n",
       "      <td>2.16.840.1.113883.6.88</td>\n",
       "      <td>SCD</td>\n",
       "    </tr>\n",
       "    <tr>\n",
       "      <th>...</th>\n",
       "      <td>...</td>\n",
       "      <td>...</td>\n",
       "      <td>...</td>\n",
       "      <td>...</td>\n",
       "      <td>...</td>\n",
       "      <td>...</td>\n",
       "    </tr>\n",
       "    <tr>\n",
       "      <th>2923</th>\n",
       "      <td>996615</td>\n",
       "      <td>24 HR memantine hydrochloride 7 MG Extended Re...</td>\n",
       "      <td>RXNORM</td>\n",
       "      <td>2021-01</td>\n",
       "      <td>2.16.840.1.113883.6.88</td>\n",
       "      <td>SCD</td>\n",
       "    </tr>\n",
       "    <tr>\n",
       "      <th>2924</th>\n",
       "      <td>996624</td>\n",
       "      <td>{7 (24 HR memantine hydrochloride 14 MG Extend...</td>\n",
       "      <td>RXNORM</td>\n",
       "      <td>2021-01</td>\n",
       "      <td>2.16.840.1.113883.6.88</td>\n",
       "      <td>GPCK</td>\n",
       "    </tr>\n",
       "    <tr>\n",
       "      <th>2925</th>\n",
       "      <td>996740</td>\n",
       "      <td>memantine hydrochloride 2 MG/ML Oral Solution</td>\n",
       "      <td>RXNORM</td>\n",
       "      <td>2021-01</td>\n",
       "      <td>2.16.840.1.113883.6.88</td>\n",
       "      <td>SCD</td>\n",
       "    </tr>\n",
       "    <tr>\n",
       "      <th>2926</th>\n",
       "      <td>998028</td>\n",
       "      <td>ondansetron 8 MG Oral Film</td>\n",
       "      <td>RXNORM</td>\n",
       "      <td>2021-01</td>\n",
       "      <td>2.16.840.1.113883.6.88</td>\n",
       "      <td>SCD</td>\n",
       "    </tr>\n",
       "    <tr>\n",
       "      <th>2927</th>\n",
       "      <td>998033</td>\n",
       "      <td>ondansetron 4 MG Oral Film</td>\n",
       "      <td>RXNORM</td>\n",
       "      <td>2021-01</td>\n",
       "      <td>2.16.840.1.113883.6.88</td>\n",
       "      <td>SCD</td>\n",
       "    </tr>\n",
       "  </tbody>\n",
       "</table>\n",
       "<p>2928 rows × 6 columns</p>\n",
       "</div>"
      ],
      "text/plain": [
       "0        Code                                        Description Code System  \\\n",
       "0     1000048           doxepin hydrochloride 10 MG Oral Capsule      RXNORM   \n",
       "1     1000054       doxepin hydrochloride 10 MG/ML Oral Solution      RXNORM   \n",
       "2     1000058          doxepin hydrochloride 100 MG Oral Capsule      RXNORM   \n",
       "3     1000064          doxepin hydrochloride 150 MG Oral Capsule      RXNORM   \n",
       "4     1000070           doxepin hydrochloride 25 MG Oral Capsule      RXNORM   \n",
       "...       ...                                                ...         ...   \n",
       "2923   996615  24 HR memantine hydrochloride 7 MG Extended Re...      RXNORM   \n",
       "2924   996624  {7 (24 HR memantine hydrochloride 14 MG Extend...      RXNORM   \n",
       "2925   996740      memantine hydrochloride 2 MG/ML Oral Solution      RXNORM   \n",
       "2926   998028                         ondansetron 8 MG Oral Film      RXNORM   \n",
       "2927   998033                         ondansetron 4 MG Oral Film      RXNORM   \n",
       "\n",
       "0    Code System Version         Code System OID   TTY  \n",
       "0                2021-01  2.16.840.1.113883.6.88   SCD  \n",
       "1                2021-01  2.16.840.1.113883.6.88   SCD  \n",
       "2                2021-01  2.16.840.1.113883.6.88   SCD  \n",
       "3                2021-01  2.16.840.1.113883.6.88   SCD  \n",
       "4                2021-01  2.16.840.1.113883.6.88   SCD  \n",
       "...                  ...                     ...   ...  \n",
       "2923             2021-01  2.16.840.1.113883.6.88   SCD  \n",
       "2924             2021-01  2.16.840.1.113883.6.88  GPCK  \n",
       "2925             2021-01  2.16.840.1.113883.6.88   SCD  \n",
       "2926             2021-01  2.16.840.1.113883.6.88   SCD  \n",
       "2927             2021-01  2.16.840.1.113883.6.88   SCD  \n",
       "\n",
       "[2928 rows x 6 columns]"
      ]
     },
     "execution_count": 14,
     "metadata": {},
     "output_type": "execute_result"
    }
   ],
   "source": [
    "df_non"
   ]
  },
  {
   "cell_type": "code",
   "execution_count": 16,
   "metadata": {},
   "outputs": [],
   "source": [
    "df_non.to_excel(\"Nonopioid_List.xlsx\", index=False)"
   ]
  },
  {
   "cell_type": "code",
   "execution_count": null,
   "metadata": {},
   "outputs": [],
   "source": []
  }
 ],
 "metadata": {
  "interpreter": {
   "hash": "bb65d556cc9ffd5fc8f64636b885d16e366ae84c2bf1ff8befa7ac4da02efdcf"
  },
  "kernelspec": {
   "display_name": "Python 3.9.7 ('base')",
   "language": "python",
   "name": "python3"
  },
  "language_info": {
   "codemirror_mode": {
    "name": "ipython",
    "version": 3
   },
   "file_extension": ".py",
   "mimetype": "text/x-python",
   "name": "python",
   "nbconvert_exporter": "python",
   "pygments_lexer": "ipython3",
   "version": "3.9.7"
  },
  "orig_nbformat": 4
 },
 "nbformat": 4,
 "nbformat_minor": 2
}
