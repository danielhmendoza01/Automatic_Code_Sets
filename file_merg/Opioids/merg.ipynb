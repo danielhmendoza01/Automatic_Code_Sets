{
 "cells": [
  {
   "cell_type": "code",
   "execution_count": 3,
   "metadata": {},
   "outputs": [],
   "source": [
    "import pandas as pd\n",
    "import os\n"
   ]
  },
  {
   "cell_type": "code",
   "execution_count": 2,
   "metadata": {},
   "outputs": [
    {
     "data": {
      "text/plain": [
       "'/Users/hm/Documents/opioid_list/opioid_list/file_merg'"
      ]
     },
     "execution_count": 2,
     "metadata": {},
     "output_type": "execute_result"
    }
   ],
   "source": [
    "#working directory\n",
    "os.getcwd()"
   ]
  },
  {
   "cell_type": "code",
   "execution_count": 4,
   "metadata": {},
   "outputs": [],
   "source": [
    "files = os.listdir()"
   ]
  },
  {
   "cell_type": "code",
   "execution_count": 8,
   "metadata": {},
   "outputs": [
    {
     "name": "stdout",
     "output_type": "stream",
     "text": [
      "['OpioidsAll.xlsx', 'Opioids-3.xlsx', 'ScheduleIIIIIOpioidMedications.xlsx', 'MedicationsContainingOpioids.xlsx', '.DS_Store', 'OpioidInjectables.xlsx', 'Opioids-2.xlsx', 'LongActingOpioids.xlsx', 'opioid_merg.ipynb', 'AllOpioids.xlsx', 'OpioidsUsedForPainControl.xlsx', 'OpioidsOral.xlsx', 'Opioids.xlsx', 'Opioids-4.xlsx', 'OpioidMeds.xlsx', 'OpioidsPrescribedNotInjectable.xlsx', 'OpioidPainMedications.xlsx', 'SelectedOpioidsForModerateToSeverePain.xlsx', 'OpioidMedicationKeyWords.xlsx', 'OpioidExtendedReleaseOralAndTransdermalPatch.xlsx', 'AllPrescribableOpioidsUsedForPainControlIncludingInactiveMedications.xlsx', 'OpioidOralTabletsAndPatchesOnly.xlsx', 'C2Share Opioid Medications.xlsx', 'OpioidOralNotExtendedRelease.xlsx', 'ScheduleIIAndScheduleIIIOpioids.xlsx']\n"
     ]
    }
   ],
   "source": [
    "print(files)"
   ]
  },
  {
   "cell_type": "code",
   "execution_count": 9,
   "metadata": {},
   "outputs": [],
   "source": [
    "#get out file\n",
    "df = pd.DataFrame()"
   ]
  },
  {
   "cell_type": "code",
   "execution_count": 19,
   "metadata": {},
   "outputs": [],
   "source": [
    "for f in files:\n",
    "    if (f.endswith('.xlsx')):\n",
    "        start = 11\n",
    "        merg_df = pd.read_excel(f, \"Expansion List\")\n",
    "        merg_df = merg_df.iloc[start:,:]\n",
    "        merg_df.reset_index(inplace=True, drop=True)\n",
    "        merg_df.columns=merg_df.iloc[0]\n",
    "        merg_df = merg_df[1:]\n",
    "        df = pd.concat([df, merg_df]).drop_duplicates(subset=['Code']).reset_index(drop=True)\n",
    "        "
   ]
  },
  {
   "cell_type": "code",
   "execution_count": 21,
   "metadata": {},
   "outputs": [
    {
     "data": {
      "text/plain": [
       "(2259, 12)"
      ]
     },
     "execution_count": 21,
     "metadata": {},
     "output_type": "execute_result"
    }
   ],
   "source": [
    "df.shape"
   ]
  },
  {
   "cell_type": "code",
   "execution_count": 22,
   "metadata": {},
   "outputs": [],
   "source": [
    "df.to_excel(\"/Users/hm/Documents/opioid_list/opioid_list/Complete_Opioids_List.xlsx\", index=False)"
   ]
  },
  {
   "cell_type": "code",
   "execution_count": 5,
   "metadata": {},
   "outputs": [
    {
     "name": "stdout",
     "output_type": "stream",
     "text": [
      "['NonOpioidAnalgesics.xlsx', 'NonOpioidAndNonAnalgesicPainMedications-2.xlsx', 'NonOpioidAndNonAnalgesicPainMedications.xlsx', 'NonOpioidPainMedications.xlsx', 'Nonopioid_List_Old.xlsx']\n"
     ]
    }
   ],
   "source": [
    "os.chdir(\"C:/Users/Daniel/Documents/opiod_list/Atomatic_Code_Sets/file_merg/Nonopioids\")\n",
    "nonopioid_files = os.listdir()\n",
    "print(nonopioid_files)"
   ]
  },
  {
   "cell_type": "code",
   "execution_count": 6,
   "metadata": {},
   "outputs": [
    {
     "ename": "ValueError",
     "evalue": "Worksheet named 'Expansion List' not found",
     "output_type": "error",
     "traceback": [
      "\u001b[1;31m---------------------------------------------------------------------------\u001b[0m",
      "\u001b[1;31mValueError\u001b[0m                                Traceback (most recent call last)",
      "\u001b[1;32m~\\AppData\\Local\\Temp/ipykernel_13428/4084394209.py\u001b[0m in \u001b[0;36m<module>\u001b[1;34m\u001b[0m\n\u001b[0;32m      3\u001b[0m     \u001b[1;32mif\u001b[0m \u001b[1;33m(\u001b[0m\u001b[0mf\u001b[0m\u001b[1;33m.\u001b[0m\u001b[0mendswith\u001b[0m\u001b[1;33m(\u001b[0m\u001b[1;34m'.xlsx'\u001b[0m\u001b[1;33m)\u001b[0m\u001b[1;33m)\u001b[0m\u001b[1;33m:\u001b[0m\u001b[1;33m\u001b[0m\u001b[1;33m\u001b[0m\u001b[0m\n\u001b[0;32m      4\u001b[0m         \u001b[0mstart\u001b[0m \u001b[1;33m=\u001b[0m \u001b[1;36m11\u001b[0m\u001b[1;33m\u001b[0m\u001b[1;33m\u001b[0m\u001b[0m\n\u001b[1;32m----> 5\u001b[1;33m         \u001b[0mmerg_df\u001b[0m \u001b[1;33m=\u001b[0m \u001b[0mpd\u001b[0m\u001b[1;33m.\u001b[0m\u001b[0mread_excel\u001b[0m\u001b[1;33m(\u001b[0m\u001b[0mf\u001b[0m\u001b[1;33m,\u001b[0m \u001b[1;34m\"Expansion List\"\u001b[0m\u001b[1;33m)\u001b[0m\u001b[1;33m\u001b[0m\u001b[1;33m\u001b[0m\u001b[0m\n\u001b[0m\u001b[0;32m      6\u001b[0m         \u001b[0mmerg_df\u001b[0m \u001b[1;33m=\u001b[0m \u001b[0mmerg_df\u001b[0m\u001b[1;33m.\u001b[0m\u001b[0miloc\u001b[0m\u001b[1;33m[\u001b[0m\u001b[0mstart\u001b[0m\u001b[1;33m:\u001b[0m\u001b[1;33m,\u001b[0m\u001b[1;33m:\u001b[0m\u001b[1;33m]\u001b[0m\u001b[1;33m\u001b[0m\u001b[1;33m\u001b[0m\u001b[0m\n\u001b[0;32m      7\u001b[0m         \u001b[0mmerg_df\u001b[0m\u001b[1;33m.\u001b[0m\u001b[0mreset_index\u001b[0m\u001b[1;33m(\u001b[0m\u001b[0minplace\u001b[0m\u001b[1;33m=\u001b[0m\u001b[1;32mTrue\u001b[0m\u001b[1;33m,\u001b[0m \u001b[0mdrop\u001b[0m\u001b[1;33m=\u001b[0m\u001b[1;32mTrue\u001b[0m\u001b[1;33m)\u001b[0m\u001b[1;33m\u001b[0m\u001b[1;33m\u001b[0m\u001b[0m\n",
      "\u001b[1;32mc:\\Users\\Daniel\\anaconda3\\lib\\site-packages\\pandas\\util\\_decorators.py\u001b[0m in \u001b[0;36mwrapper\u001b[1;34m(*args, **kwargs)\u001b[0m\n\u001b[0;32m    309\u001b[0m                     \u001b[0mstacklevel\u001b[0m\u001b[1;33m=\u001b[0m\u001b[0mstacklevel\u001b[0m\u001b[1;33m,\u001b[0m\u001b[1;33m\u001b[0m\u001b[1;33m\u001b[0m\u001b[0m\n\u001b[0;32m    310\u001b[0m                 )\n\u001b[1;32m--> 311\u001b[1;33m             \u001b[1;32mreturn\u001b[0m \u001b[0mfunc\u001b[0m\u001b[1;33m(\u001b[0m\u001b[1;33m*\u001b[0m\u001b[0margs\u001b[0m\u001b[1;33m,\u001b[0m \u001b[1;33m**\u001b[0m\u001b[0mkwargs\u001b[0m\u001b[1;33m)\u001b[0m\u001b[1;33m\u001b[0m\u001b[1;33m\u001b[0m\u001b[0m\n\u001b[0m\u001b[0;32m    312\u001b[0m \u001b[1;33m\u001b[0m\u001b[0m\n\u001b[0;32m    313\u001b[0m         \u001b[1;32mreturn\u001b[0m \u001b[0mwrapper\u001b[0m\u001b[1;33m\u001b[0m\u001b[1;33m\u001b[0m\u001b[0m\n",
      "\u001b[1;32mc:\\Users\\Daniel\\anaconda3\\lib\\site-packages\\pandas\\io\\excel\\_base.py\u001b[0m in \u001b[0;36mread_excel\u001b[1;34m(io, sheet_name, header, names, index_col, usecols, squeeze, dtype, engine, converters, true_values, false_values, skiprows, nrows, na_values, keep_default_na, na_filter, verbose, parse_dates, date_parser, thousands, comment, skipfooter, convert_float, mangle_dupe_cols, storage_options)\u001b[0m\n\u001b[0;32m    370\u001b[0m \u001b[1;33m\u001b[0m\u001b[0m\n\u001b[0;32m    371\u001b[0m     \u001b[1;32mtry\u001b[0m\u001b[1;33m:\u001b[0m\u001b[1;33m\u001b[0m\u001b[1;33m\u001b[0m\u001b[0m\n\u001b[1;32m--> 372\u001b[1;33m         data = io.parse(\n\u001b[0m\u001b[0;32m    373\u001b[0m             \u001b[0msheet_name\u001b[0m\u001b[1;33m=\u001b[0m\u001b[0msheet_name\u001b[0m\u001b[1;33m,\u001b[0m\u001b[1;33m\u001b[0m\u001b[1;33m\u001b[0m\u001b[0m\n\u001b[0;32m    374\u001b[0m             \u001b[0mheader\u001b[0m\u001b[1;33m=\u001b[0m\u001b[0mheader\u001b[0m\u001b[1;33m,\u001b[0m\u001b[1;33m\u001b[0m\u001b[1;33m\u001b[0m\u001b[0m\n",
      "\u001b[1;32mc:\\Users\\Daniel\\anaconda3\\lib\\site-packages\\pandas\\io\\excel\\_base.py\u001b[0m in \u001b[0;36mparse\u001b[1;34m(self, sheet_name, header, names, index_col, usecols, squeeze, converters, true_values, false_values, skiprows, nrows, na_values, parse_dates, date_parser, thousands, comment, skipfooter, convert_float, mangle_dupe_cols, **kwds)\u001b[0m\n\u001b[0;32m   1270\u001b[0m             \u001b[0mDataFrame\u001b[0m \u001b[1;32mfrom\u001b[0m \u001b[0mthe\u001b[0m \u001b[0mpassed\u001b[0m \u001b[1;32min\u001b[0m \u001b[0mExcel\u001b[0m \u001b[0mfile\u001b[0m\u001b[1;33m.\u001b[0m\u001b[1;33m\u001b[0m\u001b[1;33m\u001b[0m\u001b[0m\n\u001b[0;32m   1271\u001b[0m         \"\"\"\n\u001b[1;32m-> 1272\u001b[1;33m         return self._reader.parse(\n\u001b[0m\u001b[0;32m   1273\u001b[0m             \u001b[0msheet_name\u001b[0m\u001b[1;33m=\u001b[0m\u001b[0msheet_name\u001b[0m\u001b[1;33m,\u001b[0m\u001b[1;33m\u001b[0m\u001b[1;33m\u001b[0m\u001b[0m\n\u001b[0;32m   1274\u001b[0m             \u001b[0mheader\u001b[0m\u001b[1;33m=\u001b[0m\u001b[0mheader\u001b[0m\u001b[1;33m,\u001b[0m\u001b[1;33m\u001b[0m\u001b[1;33m\u001b[0m\u001b[0m\n",
      "\u001b[1;32mc:\\Users\\Daniel\\anaconda3\\lib\\site-packages\\pandas\\io\\excel\\_base.py\u001b[0m in \u001b[0;36mparse\u001b[1;34m(self, sheet_name, header, names, index_col, usecols, squeeze, dtype, true_values, false_values, skiprows, nrows, na_values, verbose, parse_dates, date_parser, thousands, comment, skipfooter, convert_float, mangle_dupe_cols, **kwds)\u001b[0m\n\u001b[0;32m    533\u001b[0m \u001b[1;33m\u001b[0m\u001b[0m\n\u001b[0;32m    534\u001b[0m             \u001b[1;32mif\u001b[0m \u001b[0misinstance\u001b[0m\u001b[1;33m(\u001b[0m\u001b[0masheetname\u001b[0m\u001b[1;33m,\u001b[0m \u001b[0mstr\u001b[0m\u001b[1;33m)\u001b[0m\u001b[1;33m:\u001b[0m\u001b[1;33m\u001b[0m\u001b[1;33m\u001b[0m\u001b[0m\n\u001b[1;32m--> 535\u001b[1;33m                 \u001b[0msheet\u001b[0m \u001b[1;33m=\u001b[0m \u001b[0mself\u001b[0m\u001b[1;33m.\u001b[0m\u001b[0mget_sheet_by_name\u001b[0m\u001b[1;33m(\u001b[0m\u001b[0masheetname\u001b[0m\u001b[1;33m)\u001b[0m\u001b[1;33m\u001b[0m\u001b[1;33m\u001b[0m\u001b[0m\n\u001b[0m\u001b[0;32m    536\u001b[0m             \u001b[1;32melse\u001b[0m\u001b[1;33m:\u001b[0m  \u001b[1;31m# assume an integer if not a string\u001b[0m\u001b[1;33m\u001b[0m\u001b[1;33m\u001b[0m\u001b[0m\n\u001b[0;32m    537\u001b[0m                 \u001b[0msheet\u001b[0m \u001b[1;33m=\u001b[0m \u001b[0mself\u001b[0m\u001b[1;33m.\u001b[0m\u001b[0mget_sheet_by_index\u001b[0m\u001b[1;33m(\u001b[0m\u001b[0masheetname\u001b[0m\u001b[1;33m)\u001b[0m\u001b[1;33m\u001b[0m\u001b[1;33m\u001b[0m\u001b[0m\n",
      "\u001b[1;32mc:\\Users\\Daniel\\anaconda3\\lib\\site-packages\\pandas\\io\\excel\\_openpyxl.py\u001b[0m in \u001b[0;36mget_sheet_by_name\u001b[1;34m(self, name)\u001b[0m\n\u001b[0;32m    540\u001b[0m \u001b[1;33m\u001b[0m\u001b[0m\n\u001b[0;32m    541\u001b[0m     \u001b[1;32mdef\u001b[0m \u001b[0mget_sheet_by_name\u001b[0m\u001b[1;33m(\u001b[0m\u001b[0mself\u001b[0m\u001b[1;33m,\u001b[0m \u001b[0mname\u001b[0m\u001b[1;33m:\u001b[0m \u001b[0mstr\u001b[0m\u001b[1;33m)\u001b[0m\u001b[1;33m:\u001b[0m\u001b[1;33m\u001b[0m\u001b[1;33m\u001b[0m\u001b[0m\n\u001b[1;32m--> 542\u001b[1;33m         \u001b[0mself\u001b[0m\u001b[1;33m.\u001b[0m\u001b[0mraise_if_bad_sheet_by_name\u001b[0m\u001b[1;33m(\u001b[0m\u001b[0mname\u001b[0m\u001b[1;33m)\u001b[0m\u001b[1;33m\u001b[0m\u001b[1;33m\u001b[0m\u001b[0m\n\u001b[0m\u001b[0;32m    543\u001b[0m         \u001b[1;32mreturn\u001b[0m \u001b[0mself\u001b[0m\u001b[1;33m.\u001b[0m\u001b[0mbook\u001b[0m\u001b[1;33m[\u001b[0m\u001b[0mname\u001b[0m\u001b[1;33m]\u001b[0m\u001b[1;33m\u001b[0m\u001b[1;33m\u001b[0m\u001b[0m\n\u001b[0;32m    544\u001b[0m \u001b[1;33m\u001b[0m\u001b[0m\n",
      "\u001b[1;32mc:\\Users\\Daniel\\anaconda3\\lib\\site-packages\\pandas\\io\\excel\\_base.py\u001b[0m in \u001b[0;36mraise_if_bad_sheet_by_name\u001b[1;34m(self, name)\u001b[0m\n\u001b[0;32m    472\u001b[0m     \u001b[1;32mdef\u001b[0m \u001b[0mraise_if_bad_sheet_by_name\u001b[0m\u001b[1;33m(\u001b[0m\u001b[0mself\u001b[0m\u001b[1;33m,\u001b[0m \u001b[0mname\u001b[0m\u001b[1;33m:\u001b[0m \u001b[0mstr\u001b[0m\u001b[1;33m)\u001b[0m \u001b[1;33m->\u001b[0m \u001b[1;32mNone\u001b[0m\u001b[1;33m:\u001b[0m\u001b[1;33m\u001b[0m\u001b[1;33m\u001b[0m\u001b[0m\n\u001b[0;32m    473\u001b[0m         \u001b[1;32mif\u001b[0m \u001b[0mname\u001b[0m \u001b[1;32mnot\u001b[0m \u001b[1;32min\u001b[0m \u001b[0mself\u001b[0m\u001b[1;33m.\u001b[0m\u001b[0msheet_names\u001b[0m\u001b[1;33m:\u001b[0m\u001b[1;33m\u001b[0m\u001b[1;33m\u001b[0m\u001b[0m\n\u001b[1;32m--> 474\u001b[1;33m             \u001b[1;32mraise\u001b[0m \u001b[0mValueError\u001b[0m\u001b[1;33m(\u001b[0m\u001b[1;34mf\"Worksheet named '{name}' not found\"\u001b[0m\u001b[1;33m)\u001b[0m\u001b[1;33m\u001b[0m\u001b[1;33m\u001b[0m\u001b[0m\n\u001b[0m\u001b[0;32m    475\u001b[0m \u001b[1;33m\u001b[0m\u001b[0m\n\u001b[0;32m    476\u001b[0m     def parse(\n",
      "\u001b[1;31mValueError\u001b[0m: Worksheet named 'Expansion List' not found"
     ]
    }
   ],
   "source": [
    "df_non = pd.DataFrame()\n",
    "for f in nonopioid_files:\n",
    "    if (f.endswith('.xlsx')):\n",
    "        start = 11\n",
    "        merg_df = pd.read_excel(f, \"Expansion List\")\n",
    "        merg_df = merg_df.iloc[start:,:]\n",
    "        merg_df.reset_index(inplace=True, drop=True)\n",
    "        merg_df.columns=merg_df.iloc[0]\n",
    "        merg_df = merg_df[1:]\n",
    "        df_non = pd.concat([df_non, merg_df]).drop_duplicates(subset=['Code']).reset_index(drop=True)"
   ]
  },
  {
   "cell_type": "code",
   "execution_count": 7,
   "metadata": {},
   "outputs": [
    {
     "data": {
      "text/html": [
       "<div>\n",
       "<style scoped>\n",
       "    .dataframe tbody tr th:only-of-type {\n",
       "        vertical-align: middle;\n",
       "    }\n",
       "\n",
       "    .dataframe tbody tr th {\n",
       "        vertical-align: top;\n",
       "    }\n",
       "\n",
       "    .dataframe thead th {\n",
       "        text-align: right;\n",
       "    }\n",
       "</style>\n",
       "<table border=\"1\" class=\"dataframe\">\n",
       "  <thead>\n",
       "    <tr style=\"text-align: right;\">\n",
       "      <th></th>\n",
       "      <th>Code</th>\n",
       "      <th>Description</th>\n",
       "      <th>Code System</th>\n",
       "      <th>Code System Version</th>\n",
       "      <th>Code System OID</th>\n",
       "      <th>TTY</th>\n",
       "    </tr>\n",
       "  </thead>\n",
       "  <tbody>\n",
       "    <tr>\n",
       "      <th>0</th>\n",
       "      <td>1001437</td>\n",
       "      <td>caffeine 50 MG / magnesium salicylate 162.5 MG...</td>\n",
       "      <td>RXNORM</td>\n",
       "      <td>2021-01</td>\n",
       "      <td>2.16.840.1.113883.6.88</td>\n",
       "      <td>SCD</td>\n",
       "    </tr>\n",
       "    <tr>\n",
       "      <th>1</th>\n",
       "      <td>1037273</td>\n",
       "      <td>acetaminophen 300 MG / phenyltoloxamine citrat...</td>\n",
       "      <td>RXNORM</td>\n",
       "      <td>2021-01</td>\n",
       "      <td>2.16.840.1.113883.6.88</td>\n",
       "      <td>SCD</td>\n",
       "    </tr>\n",
       "    <tr>\n",
       "      <th>2</th>\n",
       "      <td>103863</td>\n",
       "      <td>aspirin 150 MG Rectal Suppository</td>\n",
       "      <td>RXNORM</td>\n",
       "      <td>2021-01</td>\n",
       "      <td>2.16.840.1.113883.6.88</td>\n",
       "      <td>SCD</td>\n",
       "    </tr>\n",
       "    <tr>\n",
       "      <th>3</th>\n",
       "      <td>103941</td>\n",
       "      <td>carbamazepine 125 MG Rectal Suppository</td>\n",
       "      <td>RXNORM</td>\n",
       "      <td>2021-01</td>\n",
       "      <td>2.16.840.1.113883.6.88</td>\n",
       "      <td>SCD</td>\n",
       "    </tr>\n",
       "    <tr>\n",
       "      <th>4</th>\n",
       "      <td>103942</td>\n",
       "      <td>carbamazepine 250 MG Rectal Suppository</td>\n",
       "      <td>RXNORM</td>\n",
       "      <td>2021-01</td>\n",
       "      <td>2.16.840.1.113883.6.88</td>\n",
       "      <td>SCD</td>\n",
       "    </tr>\n",
       "    <tr>\n",
       "      <th>...</th>\n",
       "      <td>...</td>\n",
       "      <td>...</td>\n",
       "      <td>...</td>\n",
       "      <td>...</td>\n",
       "      <td>...</td>\n",
       "      <td>...</td>\n",
       "    </tr>\n",
       "    <tr>\n",
       "      <th>2923</th>\n",
       "      <td>992898</td>\n",
       "      <td>promethazine hydrochloride 1 MG/ML Oral Solution</td>\n",
       "      <td>RXNORM</td>\n",
       "      <td>2021-01</td>\n",
       "      <td>2.16.840.1.113883.6.88</td>\n",
       "      <td>SCD</td>\n",
       "    </tr>\n",
       "    <tr>\n",
       "      <th>2924</th>\n",
       "      <td>992900</td>\n",
       "      <td>promethazine hydrochloride 10 MG Oral Tablet</td>\n",
       "      <td>RXNORM</td>\n",
       "      <td>2021-01</td>\n",
       "      <td>2.16.840.1.113883.6.88</td>\n",
       "      <td>SCD</td>\n",
       "    </tr>\n",
       "    <tr>\n",
       "      <th>2925</th>\n",
       "      <td>992904</td>\n",
       "      <td>promethazine hydrochloride 20 MG Oral Tablet</td>\n",
       "      <td>RXNORM</td>\n",
       "      <td>2021-01</td>\n",
       "      <td>2.16.840.1.113883.6.88</td>\n",
       "      <td>SCD</td>\n",
       "    </tr>\n",
       "    <tr>\n",
       "      <th>2926</th>\n",
       "      <td>997658</td>\n",
       "      <td>benzalkonium chloride 1.3 MG/ML / benzocaine 5...</td>\n",
       "      <td>RXNORM</td>\n",
       "      <td>2021-01</td>\n",
       "      <td>2.16.840.1.113883.6.88</td>\n",
       "      <td>SCD</td>\n",
       "    </tr>\n",
       "    <tr>\n",
       "      <th>2927</th>\n",
       "      <td>999683</td>\n",
       "      <td>benzocaine 140 MG/ML / butamben 20 MG/ML / tet...</td>\n",
       "      <td>RXNORM</td>\n",
       "      <td>2021-01</td>\n",
       "      <td>2.16.840.1.113883.6.88</td>\n",
       "      <td>SCD</td>\n",
       "    </tr>\n",
       "  </tbody>\n",
       "</table>\n",
       "<p>2928 rows × 6 columns</p>\n",
       "</div>"
      ],
      "text/plain": [
       "0        Code                                        Description Code System  \\\n",
       "0     1001437  caffeine 50 MG / magnesium salicylate 162.5 MG...      RXNORM   \n",
       "1     1037273  acetaminophen 300 MG / phenyltoloxamine citrat...      RXNORM   \n",
       "2      103863                  aspirin 150 MG Rectal Suppository      RXNORM   \n",
       "3      103941            carbamazepine 125 MG Rectal Suppository      RXNORM   \n",
       "4      103942            carbamazepine 250 MG Rectal Suppository      RXNORM   \n",
       "...       ...                                                ...         ...   \n",
       "2923   992898   promethazine hydrochloride 1 MG/ML Oral Solution      RXNORM   \n",
       "2924   992900       promethazine hydrochloride 10 MG Oral Tablet      RXNORM   \n",
       "2925   992904       promethazine hydrochloride 20 MG Oral Tablet      RXNORM   \n",
       "2926   997658  benzalkonium chloride 1.3 MG/ML / benzocaine 5...      RXNORM   \n",
       "2927   999683  benzocaine 140 MG/ML / butamben 20 MG/ML / tet...      RXNORM   \n",
       "\n",
       "0    Code System Version         Code System OID  TTY  \n",
       "0                2021-01  2.16.840.1.113883.6.88  SCD  \n",
       "1                2021-01  2.16.840.1.113883.6.88  SCD  \n",
       "2                2021-01  2.16.840.1.113883.6.88  SCD  \n",
       "3                2021-01  2.16.840.1.113883.6.88  SCD  \n",
       "4                2021-01  2.16.840.1.113883.6.88  SCD  \n",
       "...                  ...                     ...  ...  \n",
       "2923             2021-01  2.16.840.1.113883.6.88  SCD  \n",
       "2924             2021-01  2.16.840.1.113883.6.88  SCD  \n",
       "2925             2021-01  2.16.840.1.113883.6.88  SCD  \n",
       "2926             2021-01  2.16.840.1.113883.6.88  SCD  \n",
       "2927             2021-01  2.16.840.1.113883.6.88  SCD  \n",
       "\n",
       "[2928 rows x 6 columns]"
      ]
     },
     "execution_count": 7,
     "metadata": {},
     "output_type": "execute_result"
    }
   ],
   "source": [
    "df_non"
   ]
  },
  {
   "cell_type": "code",
   "execution_count": 8,
   "metadata": {},
   "outputs": [],
   "source": [
    "df_non.to_excel(\"Nonopioid_List_Old.xlsx\", index=False)"
   ]
  },
  {
   "cell_type": "markdown",
   "metadata": {},
   "source": [
    "Antidepressants"
   ]
  },
  {
   "cell_type": "code",
   "execution_count": 14,
   "metadata": {},
   "outputs": [
    {
     "name": "stdout",
     "output_type": "stream",
     "text": [
      "['AntidepressantMedication-2.xlsx', 'AntidepressantMedication.xlsx', 'BHAntidepressantMedication.xlsx', 'BHAntidepressantMedicationMiscellaneousRxNorm.xlsx', 'BHAntidepressantMedicationMonoamineOxidaseInhibitorAntidepressantsRxNorm.xlsx', 'BHAntidepressantMedicationPhenylpiperazineAntidepressantsRxNorm.xlsx', 'BHAntidepressantMedicationSSNRIAntidepressantsRxNorm.xlsx', 'BHAntidepressantMedicationSSRIAntidepressantsRxNorm.xlsx', 'BHAntidepressantMedicationTetracyclicAntidepressantsRxNorm.xlsx', 'BHAntidepressantMedicationTricyclicAntidepressantsRxNorm.xlsx', 'CentralNervousSystemAntidepressants.xlsx', 'MiscellaneousAntidepressants.xlsx', 'PhenylpiperazineAntidepressants.xlsx', 'SSNRIAntidepressants.xlsx', 'SSRIAntidepressants.xlsx', 'TetracyclicAntidepressants.xlsx', 'TricyclicAntidepressants.xlsx']\n"
     ]
    }
   ],
   "source": [
    "os.chdir(\"C:/Users/Daniel/Documents/opiod_list/opioid_list/file_merg/Antidepressants\")\n",
    "antidep_files = os.listdir()\n",
    "print(antidep_files)"
   ]
  },
  {
   "cell_type": "code",
   "execution_count": 15,
   "metadata": {},
   "outputs": [
    {
     "name": "stderr",
     "output_type": "stream",
     "text": [
      "C:\\Users\\Daniel\\AppData\\Local\\Packages\\PythonSoftwareFoundation.Python.3.9_qbz5n2kfra8p0\\LocalCache\\local-packages\\Python39\\site-packages\\openpyxl\\styles\\stylesheet.py:226: UserWarning: Workbook contains no default style, apply openpyxl's default\n",
      "  warn(\"Workbook contains no default style, apply openpyxl's default\")\n",
      "C:\\Users\\Daniel\\AppData\\Local\\Packages\\PythonSoftwareFoundation.Python.3.9_qbz5n2kfra8p0\\LocalCache\\local-packages\\Python39\\site-packages\\openpyxl\\styles\\stylesheet.py:226: UserWarning: Workbook contains no default style, apply openpyxl's default\n",
      "  warn(\"Workbook contains no default style, apply openpyxl's default\")\n",
      "C:\\Users\\Daniel\\AppData\\Local\\Packages\\PythonSoftwareFoundation.Python.3.9_qbz5n2kfra8p0\\LocalCache\\local-packages\\Python39\\site-packages\\openpyxl\\styles\\stylesheet.py:226: UserWarning: Workbook contains no default style, apply openpyxl's default\n",
      "  warn(\"Workbook contains no default style, apply openpyxl's default\")\n",
      "C:\\Users\\Daniel\\AppData\\Local\\Packages\\PythonSoftwareFoundation.Python.3.9_qbz5n2kfra8p0\\LocalCache\\local-packages\\Python39\\site-packages\\openpyxl\\styles\\stylesheet.py:226: UserWarning: Workbook contains no default style, apply openpyxl's default\n",
      "  warn(\"Workbook contains no default style, apply openpyxl's default\")\n",
      "C:\\Users\\Daniel\\AppData\\Local\\Packages\\PythonSoftwareFoundation.Python.3.9_qbz5n2kfra8p0\\LocalCache\\local-packages\\Python39\\site-packages\\openpyxl\\styles\\stylesheet.py:226: UserWarning: Workbook contains no default style, apply openpyxl's default\n",
      "  warn(\"Workbook contains no default style, apply openpyxl's default\")\n",
      "C:\\Users\\Daniel\\AppData\\Local\\Packages\\PythonSoftwareFoundation.Python.3.9_qbz5n2kfra8p0\\LocalCache\\local-packages\\Python39\\site-packages\\openpyxl\\styles\\stylesheet.py:226: UserWarning: Workbook contains no default style, apply openpyxl's default\n",
      "  warn(\"Workbook contains no default style, apply openpyxl's default\")\n",
      "C:\\Users\\Daniel\\AppData\\Local\\Packages\\PythonSoftwareFoundation.Python.3.9_qbz5n2kfra8p0\\LocalCache\\local-packages\\Python39\\site-packages\\openpyxl\\styles\\stylesheet.py:226: UserWarning: Workbook contains no default style, apply openpyxl's default\n",
      "  warn(\"Workbook contains no default style, apply openpyxl's default\")\n",
      "C:\\Users\\Daniel\\AppData\\Local\\Packages\\PythonSoftwareFoundation.Python.3.9_qbz5n2kfra8p0\\LocalCache\\local-packages\\Python39\\site-packages\\openpyxl\\styles\\stylesheet.py:226: UserWarning: Workbook contains no default style, apply openpyxl's default\n",
      "  warn(\"Workbook contains no default style, apply openpyxl's default\")\n",
      "C:\\Users\\Daniel\\AppData\\Local\\Packages\\PythonSoftwareFoundation.Python.3.9_qbz5n2kfra8p0\\LocalCache\\local-packages\\Python39\\site-packages\\openpyxl\\styles\\stylesheet.py:226: UserWarning: Workbook contains no default style, apply openpyxl's default\n",
      "  warn(\"Workbook contains no default style, apply openpyxl's default\")\n",
      "C:\\Users\\Daniel\\AppData\\Local\\Packages\\PythonSoftwareFoundation.Python.3.9_qbz5n2kfra8p0\\LocalCache\\local-packages\\Python39\\site-packages\\openpyxl\\styles\\stylesheet.py:226: UserWarning: Workbook contains no default style, apply openpyxl's default\n",
      "  warn(\"Workbook contains no default style, apply openpyxl's default\")\n",
      "C:\\Users\\Daniel\\AppData\\Local\\Packages\\PythonSoftwareFoundation.Python.3.9_qbz5n2kfra8p0\\LocalCache\\local-packages\\Python39\\site-packages\\openpyxl\\styles\\stylesheet.py:226: UserWarning: Workbook contains no default style, apply openpyxl's default\n",
      "  warn(\"Workbook contains no default style, apply openpyxl's default\")\n",
      "C:\\Users\\Daniel\\AppData\\Local\\Packages\\PythonSoftwareFoundation.Python.3.9_qbz5n2kfra8p0\\LocalCache\\local-packages\\Python39\\site-packages\\openpyxl\\styles\\stylesheet.py:226: UserWarning: Workbook contains no default style, apply openpyxl's default\n",
      "  warn(\"Workbook contains no default style, apply openpyxl's default\")\n",
      "C:\\Users\\Daniel\\AppData\\Local\\Packages\\PythonSoftwareFoundation.Python.3.9_qbz5n2kfra8p0\\LocalCache\\local-packages\\Python39\\site-packages\\openpyxl\\styles\\stylesheet.py:226: UserWarning: Workbook contains no default style, apply openpyxl's default\n",
      "  warn(\"Workbook contains no default style, apply openpyxl's default\")\n",
      "C:\\Users\\Daniel\\AppData\\Local\\Packages\\PythonSoftwareFoundation.Python.3.9_qbz5n2kfra8p0\\LocalCache\\local-packages\\Python39\\site-packages\\openpyxl\\styles\\stylesheet.py:226: UserWarning: Workbook contains no default style, apply openpyxl's default\n",
      "  warn(\"Workbook contains no default style, apply openpyxl's default\")\n",
      "C:\\Users\\Daniel\\AppData\\Local\\Packages\\PythonSoftwareFoundation.Python.3.9_qbz5n2kfra8p0\\LocalCache\\local-packages\\Python39\\site-packages\\openpyxl\\styles\\stylesheet.py:226: UserWarning: Workbook contains no default style, apply openpyxl's default\n",
      "  warn(\"Workbook contains no default style, apply openpyxl's default\")\n",
      "C:\\Users\\Daniel\\AppData\\Local\\Packages\\PythonSoftwareFoundation.Python.3.9_qbz5n2kfra8p0\\LocalCache\\local-packages\\Python39\\site-packages\\openpyxl\\styles\\stylesheet.py:226: UserWarning: Workbook contains no default style, apply openpyxl's default\n",
      "  warn(\"Workbook contains no default style, apply openpyxl's default\")\n",
      "C:\\Users\\Daniel\\AppData\\Local\\Packages\\PythonSoftwareFoundation.Python.3.9_qbz5n2kfra8p0\\LocalCache\\local-packages\\Python39\\site-packages\\openpyxl\\styles\\stylesheet.py:226: UserWarning: Workbook contains no default style, apply openpyxl's default\n",
      "  warn(\"Workbook contains no default style, apply openpyxl's default\")\n"
     ]
    }
   ],
   "source": [
    "df_antidep = pd.DataFrame()\n",
    "for f in antidep_files:\n",
    "    if (f.endswith('.xlsx')):\n",
    "        start = 11\n",
    "        merg_df = pd.read_excel(f, \"Expansion List\", engine=\"openpyxl\")\n",
    "        merg_df = merg_df.iloc[start:,:]\n",
    "        merg_df.reset_index(inplace=True, drop=True)\n",
    "        merg_df.columns=merg_df.iloc[0]\n",
    "        merg_df = merg_df[1:]\n",
    "        df_antidep = pd.concat([df_antidep, merg_df]).drop_duplicates(subset=['Code']).reset_index(drop=True)"
   ]
  },
  {
   "cell_type": "code",
   "execution_count": 17,
   "metadata": {},
   "outputs": [
    {
     "data": {
      "text/html": [
       "<div>\n",
       "<style scoped>\n",
       "    .dataframe tbody tr th:only-of-type {\n",
       "        vertical-align: middle;\n",
       "    }\n",
       "\n",
       "    .dataframe tbody tr th {\n",
       "        vertical-align: top;\n",
       "    }\n",
       "\n",
       "    .dataframe thead th {\n",
       "        text-align: right;\n",
       "    }\n",
       "</style>\n",
       "<table border=\"1\" class=\"dataframe\">\n",
       "  <thead>\n",
       "    <tr style=\"text-align: right;\">\n",
       "      <th></th>\n",
       "      <th>Code</th>\n",
       "      <th>Description</th>\n",
       "      <th>Code System</th>\n",
       "      <th>Code System Version</th>\n",
       "      <th>Code System OID</th>\n",
       "      <th>TTY</th>\n",
       "    </tr>\n",
       "  </thead>\n",
       "  <tbody>\n",
       "    <tr>\n",
       "      <th>0</th>\n",
       "      <td>1000048</td>\n",
       "      <td>doxepin 10 MG Oral Capsule</td>\n",
       "      <td>RXNORM</td>\n",
       "      <td>2022-06</td>\n",
       "      <td>2.16.840.1.113883.6.88</td>\n",
       "      <td>SCD</td>\n",
       "    </tr>\n",
       "    <tr>\n",
       "      <th>1</th>\n",
       "      <td>1000054</td>\n",
       "      <td>doxepin 10 MG/ML Oral Solution</td>\n",
       "      <td>RXNORM</td>\n",
       "      <td>2022-06</td>\n",
       "      <td>2.16.840.1.113883.6.88</td>\n",
       "      <td>SCD</td>\n",
       "    </tr>\n",
       "    <tr>\n",
       "      <th>2</th>\n",
       "      <td>1000058</td>\n",
       "      <td>doxepin 100 MG Oral Capsule</td>\n",
       "      <td>RXNORM</td>\n",
       "      <td>2022-06</td>\n",
       "      <td>2.16.840.1.113883.6.88</td>\n",
       "      <td>SCD</td>\n",
       "    </tr>\n",
       "    <tr>\n",
       "      <th>3</th>\n",
       "      <td>1000064</td>\n",
       "      <td>doxepin 150 MG Oral Capsule</td>\n",
       "      <td>RXNORM</td>\n",
       "      <td>2022-06</td>\n",
       "      <td>2.16.840.1.113883.6.88</td>\n",
       "      <td>SCD</td>\n",
       "    </tr>\n",
       "    <tr>\n",
       "      <th>4</th>\n",
       "      <td>1000070</td>\n",
       "      <td>doxepin 25 MG Oral Capsule</td>\n",
       "      <td>RXNORM</td>\n",
       "      <td>2022-06</td>\n",
       "      <td>2.16.840.1.113883.6.88</td>\n",
       "      <td>SCD</td>\n",
       "    </tr>\n",
       "    <tr>\n",
       "      <th>...</th>\n",
       "      <td>...</td>\n",
       "      <td>...</td>\n",
       "      <td>...</td>\n",
       "      <td>...</td>\n",
       "      <td>...</td>\n",
       "      <td>...</td>\n",
       "    </tr>\n",
       "    <tr>\n",
       "      <th>202</th>\n",
       "      <td>846386</td>\n",
       "      <td>lithium orotate 5 MG Oral Capsule</td>\n",
       "      <td>RXNORM</td>\n",
       "      <td>2022-06</td>\n",
       "      <td>2.16.840.1.113883.6.88</td>\n",
       "      <td>SCD</td>\n",
       "    </tr>\n",
       "    <tr>\n",
       "      <th>203</th>\n",
       "      <td>966787</td>\n",
       "      <td>doxepin 3 MG Oral Tablet</td>\n",
       "      <td>RXNORM</td>\n",
       "      <td>2022-06</td>\n",
       "      <td>2.16.840.1.113883.6.88</td>\n",
       "      <td>SCD</td>\n",
       "    </tr>\n",
       "    <tr>\n",
       "      <th>204</th>\n",
       "      <td>966793</td>\n",
       "      <td>doxepin 6 MG Oral Tablet</td>\n",
       "      <td>RXNORM</td>\n",
       "      <td>2022-06</td>\n",
       "      <td>2.16.840.1.113883.6.88</td>\n",
       "      <td>SCD</td>\n",
       "    </tr>\n",
       "    <tr>\n",
       "      <th>205</th>\n",
       "      <td>1439840</td>\n",
       "      <td>vortioxetine 15 MG Oral Tablet</td>\n",
       "      <td>RXNORM</td>\n",
       "      <td>2022-06</td>\n",
       "      <td>2.16.840.1.113883.6.88</td>\n",
       "      <td>SCD</td>\n",
       "    </tr>\n",
       "    <tr>\n",
       "      <th>206</th>\n",
       "      <td>1298803</td>\n",
       "      <td>maprotiline hydrochloride 10 MG Oral Tablet</td>\n",
       "      <td>RXNORM</td>\n",
       "      <td>2022-06</td>\n",
       "      <td>2.16.840.1.113883.6.88</td>\n",
       "      <td>SCD</td>\n",
       "    </tr>\n",
       "  </tbody>\n",
       "</table>\n",
       "<p>207 rows × 6 columns</p>\n",
       "</div>"
      ],
      "text/plain": [
       "0       Code                                  Description Code System  \\\n",
       "0    1000048                   doxepin 10 MG Oral Capsule      RXNORM   \n",
       "1    1000054               doxepin 10 MG/ML Oral Solution      RXNORM   \n",
       "2    1000058                  doxepin 100 MG Oral Capsule      RXNORM   \n",
       "3    1000064                  doxepin 150 MG Oral Capsule      RXNORM   \n",
       "4    1000070                   doxepin 25 MG Oral Capsule      RXNORM   \n",
       "..       ...                                          ...         ...   \n",
       "202   846386            lithium orotate 5 MG Oral Capsule      RXNORM   \n",
       "203   966787                     doxepin 3 MG Oral Tablet      RXNORM   \n",
       "204   966793                     doxepin 6 MG Oral Tablet      RXNORM   \n",
       "205  1439840               vortioxetine 15 MG Oral Tablet      RXNORM   \n",
       "206  1298803  maprotiline hydrochloride 10 MG Oral Tablet      RXNORM   \n",
       "\n",
       "0   Code System Version         Code System OID  TTY  \n",
       "0               2022-06  2.16.840.1.113883.6.88  SCD  \n",
       "1               2022-06  2.16.840.1.113883.6.88  SCD  \n",
       "2               2022-06  2.16.840.1.113883.6.88  SCD  \n",
       "3               2022-06  2.16.840.1.113883.6.88  SCD  \n",
       "4               2022-06  2.16.840.1.113883.6.88  SCD  \n",
       "..                  ...                     ...  ...  \n",
       "202             2022-06  2.16.840.1.113883.6.88  SCD  \n",
       "203             2022-06  2.16.840.1.113883.6.88  SCD  \n",
       "204             2022-06  2.16.840.1.113883.6.88  SCD  \n",
       "205             2022-06  2.16.840.1.113883.6.88  SCD  \n",
       "206             2022-06  2.16.840.1.113883.6.88  SCD  \n",
       "\n",
       "[207 rows x 6 columns]"
      ]
     },
     "execution_count": 17,
     "metadata": {},
     "output_type": "execute_result"
    }
   ],
   "source": [
    "df_antidep"
   ]
  },
  {
   "cell_type": "code",
   "execution_count": 18,
   "metadata": {},
   "outputs": [],
   "source": [
    "df_antidep.to_excel(\"Complete_Antidepressants_List.xlsx\", index=False)"
   ]
  },
  {
   "cell_type": "code",
   "execution_count": null,
   "metadata": {},
   "outputs": [],
   "source": []
  }
 ],
 "metadata": {
  "kernelspec": {
   "display_name": "Python 3.9.7 ('base')",
   "language": "python",
   "name": "python3"
  },
  "language_info": {
   "codemirror_mode": {
    "name": "ipython",
    "version": 3
   },
   "file_extension": ".py",
   "mimetype": "text/x-python",
   "name": "python",
   "nbconvert_exporter": "python",
   "pygments_lexer": "ipython3",
   "version": "3.9.7"
  },
  "orig_nbformat": 4,
  "vscode": {
   "interpreter": {
    "hash": "92d1c8824dd9ed58f2e2fe7d35df9188f2132fcf69312c535170a29d4fbf29a8"
   }
  }
 },
 "nbformat": 4,
 "nbformat_minor": 2
}
