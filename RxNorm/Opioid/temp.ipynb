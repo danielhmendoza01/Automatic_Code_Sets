{
 "cells": [
  {
   "cell_type": "code",
   "execution_count": 1,
   "metadata": {},
   "outputs": [],
   "source": [
    "import pandas as pd\n",
    "import os"
   ]
  },
  {
   "cell_type": "code",
   "execution_count": 2,
   "metadata": {},
   "outputs": [],
   "source": [
    "folder_path = (r\"C:\\Users\\Daniel\\Documents\\opiod_list\\Atomatic_Code_Sets\\RxNorm\\Appendices\")\n",
    "files = sorted(os.listdir(folder_path))"
   ]
  },
  {
   "cell_type": "code",
   "execution_count": 3,
   "metadata": {},
   "outputs": [
    {
     "name": "stdout",
     "output_type": "stream",
     "text": [
      "Appendix1.xlsx: 2694 rows\n",
      "Appendix10.xlsx: 188 rows\n",
      "Appendix11.xlsx: 1326 rows\n",
      "Appendix12.xlsx: 19 rows\n",
      "Appendix2 VSAC Opioid Code Set.xlsx: 2259 rows\n",
      "Appendix3.xlsx: 1942 rows\n",
      "Appendix4.xlsx: 752 rows\n",
      "Appendix5.xlsx: 263 rows\n",
      "Appendix6.xlsx: 53 rows\n",
      "Appendix7.xlsx: 25 rows\n",
      "Appendix8.xlsx: 1514 rows\n",
      "Appendix9 VSAC Antidepressant Code Set.xlsx: 207 rows\n"
     ]
    }
   ],
   "source": [
    "# loop through each file and get its number of rows\n",
    "for file_name in files:\n",
    "    file_path = os.path.join(folder_path, file_name)\n",
    "    if os.path.isfile(file_path) and file_name.endswith('.xlsx'):\n",
    "        df = pd.read_excel(file_path)\n",
    "        num_rows = df.shape[0]\n",
    "        print(f\"{file_name}: {num_rows} rows\")"
   ]
  },
  {
   "cell_type": "code",
   "execution_count": null,
   "metadata": {},
   "outputs": [],
   "source": []
  }
 ],
 "metadata": {
  "kernelspec": {
   "display_name": "Python 3",
   "language": "python",
   "name": "python3"
  },
  "language_info": {
   "codemirror_mode": {
    "name": "ipython",
    "version": 3
   },
   "file_extension": ".py",
   "mimetype": "text/x-python",
   "name": "python",
   "nbconvert_exporter": "python",
   "pygments_lexer": "ipython3",
   "version": "3.9.13"
  },
  "orig_nbformat": 4
 },
 "nbformat": 4,
 "nbformat_minor": 2
}
