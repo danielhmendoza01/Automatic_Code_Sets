{
 "cells": [
  {
   "cell_type": "code",
   "execution_count": null,
   "metadata": {},
   "outputs": [],
   "source": [
    "import pandas as pd"
   ]
  },
  {
   "cell_type": "code",
   "execution_count": null,
   "metadata": {},
   "outputs": [],
   "source": [
    "#Global paramenters\n",
    "#API URLs from RxNorm\n",
    "base_url = \"https://rxnav.nlm.nih.gov/REST/rxcui/\"\n",
    "base_url_2 = \"https://rxnav.nlm.nih.gov/REST/\"\n",
    "#RxNorm methods\n",
    "getAllRelatedInfo = \"/allrelated.json\"\n",
    "getRelatedByType = \"/related.json?tty=IN\"\n",
    "#dataframe\n",
    "df = pd.DataFrame()"
   ]
  },
  {
   "cell_type": "code",
   "execution_count": null,
   "metadata": {},
   "outputs": [],
   "source": [
    "#Method to get drug with only the opioid ingredient\n",
    "def query_self(name_of_drug):\n",
    "    rd_df = pd.read_json(base_url+name_of_drug+getRelatedByType)\n",
    "    rd_df = pd.DataFrame(rd_df.relatedGroup.conceptGroup)\n",
    "    rd_df = pd.DataFrame(rd_df.conceptProperties[0])\n",
    "    return rd_df"
   ]
  },
  {
   "cell_type": "code",
   "execution_count": null,
   "metadata": {},
   "outputs": [],
   "source": [
    "#Method to get all drugs with an opioid ingredient\n",
    "def query_drug(name_of_drug):\n",
    "    row = 0\n",
    "    df = pd.DataFrame()\n",
    "    rd_df = pd.read_json(base_url+name_of_drug+getAllRelatedInfo)\n",
    "    rd_df = pd.DataFrame(rd_df.allRelatedGroup.conceptGroup)\n",
    "    rd_df = rd_df.loc[rd_df[\"tty\"] != \"DF\"].reset_index(drop=True)\n",
    "    rd_df = rd_df.loc[rd_df[\"tty\"] != \"DFG\"].reset_index(drop=True)\n",
    "    while row < rd_df.shape[0]:\n",
    "        if(pd.isna(rd_df.conceptProperties[row]) is True):\n",
    "            row+=1\n",
    "        else:\n",
    "            new_df = pd.DataFrame(rd_df.conceptProperties[row])\n",
    "            if df.empty:\n",
    "                df = new_df\n",
    "            else:\n",
    "                df = pd.concat([df, new_df]).reset_index(drop=True)\n",
    "            row += 1\n",
    "    return df"
   ]
  },
  {
   "cell_type": "markdown",
   "metadata": {},
   "source": [
    "All Antidepressants Ingredients"
   ]
  },
  {
   "cell_type": "code",
   "execution_count": null,
   "metadata": {},
   "outputs": [],
   "source": []
  },
  {
   "cell_type": "code",
   "execution_count": null,
   "metadata": {},
   "outputs": [],
   "source": [
    "#loop array to get complete list of drugs\n",
    "df_antidep = pd.DataFrame()\n",
    "drugs = []\n",
    "for drug in drugs:\n",
    "    self_df = query_self(drug)\n",
    "    merg_df = query_drug(drug)\n",
    "    df_antidep = pd.concat([df_antidep, self_df]).drop_duplicates(subset=['rxcui']).reset_index(drop=True)\n",
    "    df_antidep = pd.concat([df_antidep, merg_df]).drop_duplicates(subset=['rxcui']).reset_index(drop=True)\n",
    "df_antidep"
   ]
  },
  {
   "cell_type": "code",
   "execution_count": null,
   "metadata": {},
   "outputs": [],
   "source": [
    "#Export\n",
    "df_antidep.to_excel(\"New_Complete_Antidepressants_List.xlsx\", index=False)"
   ]
  }
 ],
 "metadata": {
  "language_info": {
   "name": "python"
  },
  "orig_nbformat": 4
 },
 "nbformat": 4,
 "nbformat_minor": 2
}
