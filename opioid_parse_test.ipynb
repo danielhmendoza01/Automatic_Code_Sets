{
 "cells": [
  {
   "cell_type": "code",
   "execution_count": 9,
   "metadata": {},
   "outputs": [],
   "source": [
    "import pandas as pd\n",
    "import json\n",
    "import requests"
   ]
  },
  {
   "cell_type": "code",
   "execution_count": 10,
   "metadata": {},
   "outputs": [],
   "source": [
    "base_url = \"https://rxnav.nlm.nih.gov/REST/\"\n",
    "getDrugs = \"drugs.json?name=\"\n",
    "name_of_drug = \"cymbalta\"\n"
   ]
  },
  {
   "cell_type": "code",
   "execution_count": 11,
   "metadata": {},
   "outputs": [
    {
     "data": {
      "text/plain": [
       "{'drugGroup': {'name': None,\n",
       "  'conceptGroup': [{'tty': 'BPCK'},\n",
       "   {'tty': 'SBD',\n",
       "    'conceptProperties': [{'rxcui': '596928',\n",
       "      'name': 'duloxetine 20 MG Delayed Release Oral Capsule [Cymbalta]',\n",
       "      'synonym': 'Cymbalta 20 MG Delayed Release Oral Capsule',\n",
       "      'tty': 'SBD',\n",
       "      'language': 'ENG',\n",
       "      'suppress': 'N',\n",
       "      'umlscui': ''},\n",
       "     {'rxcui': '596932',\n",
       "      'name': 'duloxetine 30 MG Delayed Release Oral Capsule [Cymbalta]',\n",
       "      'synonym': 'Cymbalta 30 MG Delayed Release Oral Capsule',\n",
       "      'tty': 'SBD',\n",
       "      'language': 'ENG',\n",
       "      'suppress': 'N',\n",
       "      'umlscui': ''},\n",
       "     {'rxcui': '615186',\n",
       "      'name': 'duloxetine 60 MG Delayed Release Oral Capsule [Cymbalta]',\n",
       "      'synonym': 'Cymbalta 60 MG (as duloxetine HCl 67.3 MG) Delayed Release Oral Capsule',\n",
       "      'tty': 'SBD',\n",
       "      'language': 'ENG',\n",
       "      'suppress': 'N',\n",
       "      'umlscui': ''}]}]}}"
      ]
     },
     "execution_count": 11,
     "metadata": {},
     "output_type": "execute_result"
    }
   ],
   "source": [
    "requests.get(base_url+getDrugs+name_of_drug).json()"
   ]
  },
  {
   "cell_type": "code",
   "execution_count": 12,
   "metadata": {},
   "outputs": [
    {
     "data": {
      "text/plain": [
       "['drugGroup']"
      ]
     },
     "execution_count": 12,
     "metadata": {},
     "output_type": "execute_result"
    }
   ],
   "source": [
    "list(requests.get(base_url+getDrugs+name_of_drug).json())"
   ]
  },
  {
   "cell_type": "code",
   "execution_count": 13,
   "metadata": {},
   "outputs": [],
   "source": [
    "drugs = []\n",
    "for i in requests.get(base_url+getDrugs+name_of_drug).json()['drugGroup']:\n",
    "    drugs.append(i)"
   ]
  },
  {
   "cell_type": "code",
   "execution_count": 14,
   "metadata": {},
   "outputs": [],
   "source": [
    "df = pd.DataFrame(requests.get(base_url+getDrugs+name_of_drug).json()['drugGroup'])"
   ]
  },
  {
   "cell_type": "code",
   "execution_count": 8,
   "metadata": {},
   "outputs": [
    {
     "data": {
      "text/html": [
       "<div>\n",
       "<style scoped>\n",
       "    .dataframe tbody tr th:only-of-type {\n",
       "        vertical-align: middle;\n",
       "    }\n",
       "\n",
       "    .dataframe tbody tr th {\n",
       "        vertical-align: top;\n",
       "    }\n",
       "\n",
       "    .dataframe thead th {\n",
       "        text-align: right;\n",
       "    }\n",
       "</style>\n",
       "<table border=\"1\" class=\"dataframe\">\n",
       "  <thead>\n",
       "    <tr style=\"text-align: right;\">\n",
       "      <th></th>\n",
       "      <th>name</th>\n",
       "      <th>conceptGroup</th>\n",
       "    </tr>\n",
       "  </thead>\n",
       "  <tbody>\n",
       "    <tr>\n",
       "      <th>0</th>\n",
       "      <td>None</td>\n",
       "      <td>{'tty': 'BPCK'}</td>\n",
       "    </tr>\n",
       "    <tr>\n",
       "      <th>1</th>\n",
       "      <td>None</td>\n",
       "      <td>{'tty': 'SBD', 'conceptProperties': [{'rxcui':...</td>\n",
       "    </tr>\n",
       "  </tbody>\n",
       "</table>\n",
       "</div>"
      ],
      "text/plain": [
       "   name                                       conceptGroup\n",
       "0  None                                    {'tty': 'BPCK'}\n",
       "1  None  {'tty': 'SBD', 'conceptProperties': [{'rxcui':..."
      ]
     },
     "execution_count": 8,
     "metadata": {},
     "output_type": "execute_result"
    }
   ],
   "source": [
    "df.head()"
   ]
  }
 ],
 "metadata": {
  "interpreter": {
   "hash": "bb65d556cc9ffd5fc8f64636b885d16e366ae84c2bf1ff8befa7ac4da02efdcf"
  },
  "kernelspec": {
   "display_name": "Python 3.9.7 ('base')",
   "language": "python",
   "name": "python3"
  },
  "language_info": {
   "codemirror_mode": {
    "name": "ipython",
    "version": 3
   },
   "file_extension": ".py",
   "mimetype": "text/x-python",
   "name": "python",
   "nbconvert_exporter": "python",
   "pygments_lexer": "ipython3",
   "version": "3.9.7"
  },
  "orig_nbformat": 4
 },
 "nbformat": 4,
 "nbformat_minor": 2
}
