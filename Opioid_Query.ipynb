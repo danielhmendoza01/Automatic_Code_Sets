{
 "cells": [
  {
   "cell_type": "code",
   "execution_count": 19,
   "metadata": {},
   "outputs": [],
   "source": [
    "import pandas as pd\n",
    "import json\n",
    "import requests\n",
    "import math"
   ]
  },
  {
   "cell_type": "code",
   "execution_count": 20,
   "metadata": {},
   "outputs": [],
   "source": [
    "#Global paramenters\n",
    "#Name of drug changes\n",
    "base_url = \"https://rxnav.nlm.nih.gov/REST/\"\n",
    "getDrugs = \"drugs.json?name=\"\n",
    "df = pd.DataFrame()\n"
   ]
  },
  {
   "cell_type": "code",
   "execution_count": 21,
   "metadata": {},
   "outputs": [],
   "source": [
    "def query_drug(name_of_drug):\n",
    "    row = 0\n",
    "    df = pd.DataFrame()\n",
    "    rd_df = pd.read_json(base_url+getDrugs+name_of_drug)\n",
    "    rd_df = pd.DataFrame(rd_df.drugGroup.conceptGroup)\n",
    "    while row < rd_df.shape[0]:\n",
    "        if(pd.isna(rd_df.conceptProperties[row]) is True):\n",
    "            row+=1\n",
    "        else:\n",
    "            new_df = pd.DataFrame(rd_df.conceptProperties[row])\n",
    "            if df.empty:\n",
    "                df = new_df\n",
    "            else:\n",
    "                df = pd.concat([df, new_df]).reset_index(drop=True)\n",
    "        row += 1\n",
    "    return df"
   ]
  },
  {
   "cell_type": "code",
   "execution_count": 23,
   "metadata": {},
   "outputs": [
    {
     "data": {
      "text/html": [
       "<div>\n",
       "<style scoped>\n",
       "    .dataframe tbody tr th:only-of-type {\n",
       "        vertical-align: middle;\n",
       "    }\n",
       "\n",
       "    .dataframe tbody tr th {\n",
       "        vertical-align: top;\n",
       "    }\n",
       "\n",
       "    .dataframe thead th {\n",
       "        text-align: right;\n",
       "    }\n",
       "</style>\n",
       "<table border=\"1\" class=\"dataframe\">\n",
       "  <thead>\n",
       "    <tr style=\"text-align: right;\">\n",
       "      <th></th>\n",
       "      <th>rxcui</th>\n",
       "      <th>name</th>\n",
       "      <th>synonym</th>\n",
       "      <th>tty</th>\n",
       "      <th>language</th>\n",
       "      <th>suppress</th>\n",
       "      <th>umlscui</th>\n",
       "    </tr>\n",
       "  </thead>\n",
       "  <tbody>\n",
       "    <tr>\n",
       "      <th>0</th>\n",
       "      <td>1087389</td>\n",
       "      <td>12 HR chlorpheniramine polistirex 4 MG / hydro...</td>\n",
       "      <td>TussiCaps Half-Strength (chlorpheniramine poli...</td>\n",
       "      <td>SBD</td>\n",
       "      <td>ENG</td>\n",
       "      <td>N</td>\n",
       "      <td></td>\n",
       "    </tr>\n",
       "    <tr>\n",
       "      <th>1</th>\n",
       "      <td>1087427</td>\n",
       "      <td>12 HR chlorpheniramine polistirex 8 MG / hydro...</td>\n",
       "      <td>TussiCaps (chlorpheniramine polistirex 8 MG / ...</td>\n",
       "      <td>SBD</td>\n",
       "      <td>ENG</td>\n",
       "      <td>N</td>\n",
       "      <td></td>\n",
       "    </tr>\n",
       "    <tr>\n",
       "      <th>2</th>\n",
       "      <td>1087463</td>\n",
       "      <td>12 HR chlorpheniramine polistirex 1.6 MG/ML / ...</td>\n",
       "      <td>Tussionex Pennkinetic ER (chlorpheniramine pol...</td>\n",
       "      <td>SBD</td>\n",
       "      <td>ENG</td>\n",
       "      <td>N</td>\n",
       "      <td></td>\n",
       "    </tr>\n",
       "    <tr>\n",
       "      <th>3</th>\n",
       "      <td>1310202</td>\n",
       "      <td>acetaminophen 300 MG / hydrocodone bitartrate ...</td>\n",
       "      <td>Vicodin 5/300 Oral Tablet</td>\n",
       "      <td>SBD</td>\n",
       "      <td>ENG</td>\n",
       "      <td>N</td>\n",
       "      <td></td>\n",
       "    </tr>\n",
       "    <tr>\n",
       "      <th>4</th>\n",
       "      <td>1310270</td>\n",
       "      <td>acetaminophen 300 MG / hydrocodone bitartrate ...</td>\n",
       "      <td>Vicodin HP 10/300 Oral Tablet</td>\n",
       "      <td>SBD</td>\n",
       "      <td>ENG</td>\n",
       "      <td>N</td>\n",
       "      <td></td>\n",
       "    </tr>\n",
       "  </tbody>\n",
       "</table>\n",
       "</div>"
      ],
      "text/plain": [
       "     rxcui                                               name  \\\n",
       "0  1087389  12 HR chlorpheniramine polistirex 4 MG / hydro...   \n",
       "1  1087427  12 HR chlorpheniramine polistirex 8 MG / hydro...   \n",
       "2  1087463  12 HR chlorpheniramine polistirex 1.6 MG/ML / ...   \n",
       "3  1310202  acetaminophen 300 MG / hydrocodone bitartrate ...   \n",
       "4  1310270  acetaminophen 300 MG / hydrocodone bitartrate ...   \n",
       "\n",
       "                                             synonym  tty language suppress  \\\n",
       "0  TussiCaps Half-Strength (chlorpheniramine poli...  SBD      ENG        N   \n",
       "1  TussiCaps (chlorpheniramine polistirex 8 MG / ...  SBD      ENG        N   \n",
       "2  Tussionex Pennkinetic ER (chlorpheniramine pol...  SBD      ENG        N   \n",
       "3                          Vicodin 5/300 Oral Tablet  SBD      ENG        N   \n",
       "4                      Vicodin HP 10/300 Oral Tablet  SBD      ENG        N   \n",
       "\n",
       "  umlscui  \n",
       "0          \n",
       "1          \n",
       "2          \n",
       "3          \n",
       "4          "
      ]
     },
     "execution_count": 23,
     "metadata": {},
     "output_type": "execute_result"
    }
   ],
   "source": [
    "df = query_drug('hydrocodone')\n",
    "df.head()"
   ]
  },
  {
   "cell_type": "code",
   "execution_count": null,
   "metadata": {},
   "outputs": [],
   "source": []
  }
 ],
 "metadata": {
  "interpreter": {
   "hash": "bb65d556cc9ffd5fc8f64636b885d16e366ae84c2bf1ff8befa7ac4da02efdcf"
  },
  "kernelspec": {
   "display_name": "Python 3.9.7 ('base')",
   "language": "python",
   "name": "python3"
  },
  "language_info": {
   "codemirror_mode": {
    "name": "ipython",
    "version": 3
   },
   "file_extension": ".py",
   "mimetype": "text/x-python",
   "name": "python",
   "nbconvert_exporter": "python",
   "pygments_lexer": "ipython3",
   "version": "3.9.7"
  },
  "orig_nbformat": 4
 },
 "nbformat": 4,
 "nbformat_minor": 2
}
